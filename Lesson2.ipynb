{
  "nbformat": 4,
  "nbformat_minor": 0,
  "metadata": {
    "colab": {
      "name": "Lesson2.ipynb",
      "provenance": [],
      "toc_visible": true,
      "authorship_tag": "ABX9TyMN1qt1ng8i4DnqMidxh8JX",
      "include_colab_link": true
    },
    "kernelspec": {
      "name": "python3",
      "display_name": "Python 3"
    },
    "language_info": {
      "name": "python"
    }
  },
  "cells": [
    {
      "cell_type": "markdown",
      "metadata": {
        "id": "view-in-github",
        "colab_type": "text"
      },
      "source": [
        "<a href=\"https://colab.research.google.com/github/soorejh/AI-Learnings/blob/Google-CoLAb/Lesson2.ipynb\" target=\"_parent\"><img src=\"https://colab.research.google.com/assets/colab-badge.svg\" alt=\"Open In Colab\"/></a>"
      ]
    },
    {
      "cell_type": "markdown",
      "source": [
        "## ***Basic conversion code***"
      ],
      "metadata": {
        "id": "zwMEuvlYNbXk"
      }
    },
    {
      "cell_type": "code",
      "execution_count": null,
      "metadata": {
        "colab": {
          "base_uri": "https://localhost:8080/"
        },
        "id": "XZILdWvqJ30l",
        "outputId": "0950020f-1f44-474e-c099-97dbf3352782"
      },
      "outputs": [
        {
          "output_type": "stream",
          "name": "stdout",
          "text": [
            "[32.0]\n",
            "[46.4]\n",
            "[59.0]\n",
            "[71.6]\n",
            "[100.4]\n"
          ]
        }
      ],
      "source": [
        "import tensorflow as tf\n",
        "import numpy as np\n",
        "in_celsius = [0,8,15,22,38]\n",
        "out_faren = []\n",
        "def convert(cel):\n",
        "  for i in range(len(cel)):\n",
        "    out_faren = (cel[i]*1.8 + 32)\n",
        "    print([out_faren])\n",
        "convert(in_celsius)\n"
      ]
    },
    {
      "cell_type": "markdown",
      "source": [
        "## ***ML Features and Examples Integration***\n"
      ],
      "metadata": {
        "id": "QAZe8GUMNhtU"
      }
    },
    {
      "cell_type": "code",
      "source": [
        "out_faren = [32, 46.4, 59.0, 71.6, 100.4]\n",
        "for i in range(5):\n",
        "  print(\"{ce} Celsius = {fa} Farenheit\".format(ce = in_celsius[i], fa = out_faren[i]))"
      ],
      "metadata": {
        "colab": {
          "base_uri": "https://localhost:8080/"
        },
        "id": "nOZhJQgwNm9f",
        "outputId": "124af04d-5ae4-47c6-a6a0-7383125117f9"
      },
      "execution_count": null,
      "outputs": [
        {
          "output_type": "stream",
          "name": "stdout",
          "text": [
            "0 Celsius = 32 Farenheit\n",
            "8 Celsius = 46.4 Farenheit\n",
            "15 Celsius = 59.0 Farenheit\n",
            "22 Celsius = 71.6 Farenheit\n",
            "38 Celsius = 100.4 Farenheit\n"
          ]
        }
      ]
    }
  ]
}